{
  "metadata": {
    "language_info": {
      "codemirror_mode": {
        "name": "python",
        "version": 3
      },
      "file_extension": ".py",
      "mimetype": "text/x-python",
      "name": "python",
      "nbconvert_exporter": "python",
      "pygments_lexer": "ipython3",
      "version": "3.8"
    },
    "kernelspec": {
      "name": "python",
      "display_name": "Pyolite",
      "language": "python"
    }
  },
  "nbformat_minor": 4,
  "nbformat": 4,
  "cells": [
    {
      "cell_type": "raw",
      "source": "MCBDD FS2022 SUBMISSION 1\nEXERCISE 1",
      "metadata": {}
    },
    {
      "cell_type": "code",
      "source": "#Exercise 1\n\na = 0.99 #Sensitivity, remains fixed for both exercises\nb = 0.99 #Specificty\npop_inf = 0.05\npop_uninf = 1-pop_inf\n\nTP = a*pop_inf / (a*pop_inf + (1-b)*pop_uninf )\nprint(\"For exercise 1, the answer is: \",TP)",
      "metadata": {
        "trusted": true
      },
      "execution_count": 1,
      "outputs": [
        {
          "name": "stdout",
          "text": "For exercise 1, the answer is:  0.8389830508474575\n",
          "output_type": "stream"
        }
      ]
    },
    {
      "cell_type": "raw",
      "source": "EXERCISE 2",
      "metadata": {}
    },
    {
      "cell_type": "code",
      "source": "allowed_b = [0.99, 0.999, 0.9999, 0.99999]\ntest_populations = {\"Weil am Rhein\":30009,\n\t\t\t\t\t\"Basel\":177595,\n\t\t\t\t\t\"Hong Kong Island\": 1270876,\n\t\t\t\t\t\"Hong Kong Core\": 3156500}\ncities = [\"Weil am Rhein\", \"Basel\", \"Hong Kong Island\", \"Hong Kong Core\"]\n\ndef calc_tp(b,pop_inf=0.05):\n\tif pop_inf < 0.0001 or pop_inf > 0.5:\n\t\tprint(\"Please give a population infection prevalence within the bounds 0.001% and 50%\")\n\tif not (b in allowed_b):\n\t\tprint(\"Please give a sensitivity within the allowed bounds\") \n\tpop_uninf = 1-pop_inf\n\treturn( a*pop_inf / (a*pop_inf + (1-b)*pop_uninf ) )\n\nprint(\"\\n The probability that Fred is infected depends while he is visiting various cities depicted below depends with differing specifity of the tests is given through the True Positive (TP)\")\nfor city in cities:\n\tpop_inf_total = pop_inf * test_populations[city]\n\tprint(f\"\\n{city}:\\nPopulation: {test_populations[city]},\\tPopulation infected: 5% ({round(pop_inf_total)} rounded)\\n\")\n\tfor i in allowed_b:\n\t\tTP = calc_tp(i)\n\t\tprint(f\"Sensitvity: {a}, Specificity:{i},\\t TP: {TP}\\t Total cases of TP (rounded to nearest int): {round(TP*pop_inf_total)}\")",
      "metadata": {
        "trusted": true
      },
      "execution_count": 7,
      "outputs": [
        {
          "name": "stdout",
          "text": "\n The probability that Fred is infected depends while he is visiting various cities depicted below depends with differing specifity of the tests is given through the True Positive (TP)\n\nWeil am Rhein:\nPopulation: 30009,\tPopulation infected: 5% (1500 rounded)\n\nSensitvity: 0.99, Specificity:0.99,\t TP: 0.8389830508474575\t Total cases of TP (rounded to nearest int): 1259\nSensitvity: 0.99, Specificity:0.999,\t TP: 0.981169474727453\t Total cases of TP (rounded to nearest int): 1472\nSensitvity: 0.99, Specificity:0.9999,\t TP: 0.9980844843230167\t Total cases of TP (rounded to nearest int): 1498\nSensitvity: 0.99, Specificity:0.99999,\t TP: 0.9998081176339904\t Total cases of TP (rounded to nearest int): 1500\n\nBasel:\nPopulation: 177595,\tPopulation infected: 5% (8880 rounded)\n\nSensitvity: 0.99, Specificity:0.99,\t TP: 0.8389830508474575\t Total cases of TP (rounded to nearest int): 7450\nSensitvity: 0.99, Specificity:0.999,\t TP: 0.981169474727453\t Total cases of TP (rounded to nearest int): 8713\nSensitvity: 0.99, Specificity:0.9999,\t TP: 0.9980844843230167\t Total cases of TP (rounded to nearest int): 8863\nSensitvity: 0.99, Specificity:0.99999,\t TP: 0.9998081176339904\t Total cases of TP (rounded to nearest int): 8878\n\nHong Kong Island:\nPopulation: 1270876,\tPopulation infected: 5% (63544 rounded)\n\nSensitvity: 0.99, Specificity:0.99,\t TP: 0.8389830508474575\t Total cases of TP (rounded to nearest int): 53312\nSensitvity: 0.99, Specificity:0.999,\t TP: 0.981169474727453\t Total cases of TP (rounded to nearest int): 62347\nSensitvity: 0.99, Specificity:0.9999,\t TP: 0.9980844843230167\t Total cases of TP (rounded to nearest int): 63422\nSensitvity: 0.99, Specificity:0.99999,\t TP: 0.9998081176339904\t Total cases of TP (rounded to nearest int): 63532\n\nHong Kong Core:\nPopulation: 3156500,\tPopulation infected: 5% (157825 rounded)\n\nSensitvity: 0.99, Specificity:0.99,\t TP: 0.8389830508474575\t Total cases of TP (rounded to nearest int): 132412\nSensitvity: 0.99, Specificity:0.999,\t TP: 0.981169474727453\t Total cases of TP (rounded to nearest int): 154853\nSensitvity: 0.99, Specificity:0.9999,\t TP: 0.9980844843230167\t Total cases of TP (rounded to nearest int): 157523\nSensitvity: 0.99, Specificity:0.99999,\t TP: 0.9998081176339904\t Total cases of TP (rounded to nearest int): 157795\n",
          "output_type": "stream"
        }
      ]
    },
    {
      "cell_type": "code",
      "source": "",
      "metadata": {},
      "execution_count": null,
      "outputs": []
    }
  ]
}