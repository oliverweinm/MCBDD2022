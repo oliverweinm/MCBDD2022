{
  "cells": [
    {
      "cell_type": "raw",
      "metadata": {},
      "source": [
        "MCBDD FS2022 SUBMISSION 3\n",
        "FACTOR ANALYSIS"
      ]
    },
    {
      "cell_type": "markdown",
      "metadata": {},
      "source": [
        "For this task, I am following the code of the Medium.com article \"Principal Component Analysis (PCA) with Python Examples - Tutorial (https://pub.towardsai.net/principal-component-analysis-pca-with-python-examples-tutorial-67a917bae9aa) as I already have familiarity with PCA due to a previously attended course in Pattern Recognition.<br>I can't use my PCA code from the Pattern Recognition course however, since it is still used in current graded assignments of the Pattern Recognition course, as to not encourage plagiarism."
      ]
    },
    {
      "cell_type": "code",
      "execution_count": 1,
      "metadata": {
        "trusted": true
      },
      "outputs": [
        {
          "name": "stdout",
          "output_type": "stream",
          "text": [
            "For exercise 1, the answer is:  0.8389830508474575\n"
          ]
        }
      ],
      "source": [
        "import numpy\n",
        "import pandas\n",
        "from sklearn import datasets\n",
        "import matplotlib.pyplot"
      ]
    },
    {
      "cell_type": "raw",
      "metadata": {},
      "source": [
        "Importing the required packages. \n",
        "Numpy, Pandas and Matplotlib are de-facto standards in Python Data Analysis"
      ]
    },
    {
      "cell_type": "code",
      "execution_count": null,
      "metadata": {
        "trusted": true
      },
      "outputs": [],
      "source": [
        "iris_dataset = datasets.load_iris()\n",
        "iris_dataset.data"
      ]
    },
    {
      "cell_type": "markdown",
      "metadata": {},
      "source": [
        "For this code we are working with the Iris dataset which already comes distributed within sklearn.datasets\n",
        "The Iris dataset is a 150x4 numpy datarray which contains about the petal and sepal length of 3 different irises (Setosa, Versicolour, Virginica), a type of flowering plant.<br>\n",
        "The Iris data set has been popular since its usage by famous statistician Ronald Fisher in his 1936 paper \"The use fo multiple measurements in taxonomic problems\" which is about linear discriminant analysis.\n",
        "(https://scikit-learn.org/stable/auto_examples/datasets/plot_iris_dataset.html)"
      ]
    },
    {
      "cell_type": "code",
      "execution_count": null,
      "metadata": {},
      "outputs": [],
      "source": [
        "iris_dataset.feature_names"
      ]
    },
    {
      "cell_type": "code",
      "execution_count": null,
      "metadata": {},
      "outputs": [],
      "source": []
    },
    {
      "cell_type": "markdown",
      "metadata": {},
      "source": [
        "covariance_matrix = np.corrcoef(iris_dataset.data.T)\n",
        "covariance_matrix"
      ]
    },
    {
      "cell_type": "markdown",
      "metadata": {},
      "source": [
        "As from we can see from the covariance matrix there is a correlation between most variables (negative and postiive) and each variable has completely correlated with itself (1 on main digonal).\n",
        "We now plot the covariance matrix using a heatmap to identify correlation between features more easily."
      ]
    },
    {
      "cell_type": "code",
      "execution_count": null,
      "metadata": {},
      "outputs": [],
      "source": [
        "image = matplotlib.pyplot.matshow(covariance_matrix, cmap=matplotlib.pyplot.cm.rainbow)\n",
        "matplotlib.pyplot.colorbar(heatmap, ticks=[-1,0,1], fraction=0.05)\n",
        "for x in range(covariance_matrix.shape[0]):\n",
        "    for y in range(covariance_matrix.shape[1]):\n",
        "        matplotlib.pyplot.text(x,y,\"%0.2f\" % covariance_matrix[x,y],size=12, color=\"black\", ha=\"center\", va=\"center\")\n",
        "matplotlib.pyplot.show()"
      ]
    }
  ],
  "metadata": {
    "kernelspec": {
      "display_name": "Pyolite",
      "language": "python",
      "name": "python"
    },
    "language_info": {
      "codemirror_mode": {
        "name": "python",
        "version": 3
      },
      "file_extension": ".py",
      "mimetype": "text/x-python",
      "name": "python",
      "nbconvert_exporter": "python",
      "pygments_lexer": "ipython3",
      "version": "3.8"
    }
  },
  "nbformat": 4,
  "nbformat_minor": 4
}
